{
  "nbformat": 4,
  "nbformat_minor": 0,
  "metadata": {
    "colab": {
      "provenance": [],
      "authorship_tag": "ABX9TyP6tgtWRk7bhi3aZbeAsHb7",
      "include_colab_link": true
    },
    "kernelspec": {
      "name": "python3",
      "display_name": "Python 3"
    },
    "language_info": {
      "name": "python"
    }
  },
  "cells": [
    {
      "cell_type": "markdown",
      "metadata": {
        "id": "view-in-github",
        "colab_type": "text"
      },
      "source": [
        "<a href=\"https://colab.research.google.com/github/AbdulRehman74/DataScienceEcosystem/blob/main/DataScienceEcosystem.ipynb\" target=\"_parent\"><img src=\"https://colab.research.google.com/assets/colab-badge.svg\" alt=\"Open In Colab\"/></a>"
      ]
    },
    {
      "cell_type": "markdown",
      "source": [
        "# Data Science Tools and Ecosystem"
      ],
      "metadata": {
        "id": "77bLVJDRawAW"
      }
    },
    {
      "cell_type": "markdown",
      "source": [
        "In this notebook, Data Science Tools and Ecosystem are summarized."
      ],
      "metadata": {
        "id": "7epr4-ODdEzY"
      }
    },
    {
      "cell_type": "markdown",
      "source": [
        "Some of the popular languages that Data Scientists use are:\n",
        "\n",
        "1. Python\n",
        "2. R\n",
        "3. Scala\n",
        "4. Java\n"
      ],
      "metadata": {
        "id": "54ZI1BOMdXYC"
      }
    },
    {
      "cell_type": "markdown",
      "source": [
        "Some of the commonly used libraries used by Data Scientists include:\n",
        "1. Tensorflow\n",
        "2. MatPlotLib\n",
        "3. Scikit-learn\n",
        "4. Pandas"
      ],
      "metadata": {
        "id": "TFCbC2lslj6z"
      }
    },
    {
      "cell_type": "markdown",
      "source": [
        "|Data Science Tools|\n",
        "| ------|\n",
        "| Google collab |\n",
        "|R Studio |\n",
        "| Visual Studio Code |"
      ],
      "metadata": {
        "id": "N1fOnfU7l1y6"
      }
    },
    {
      "cell_type": "markdown",
      "source": [
        "### Below are a few examples of evaluating arithmetic expressions in Python"
      ],
      "metadata": {
        "id": "iP-ANEPemqT6"
      }
    },
    {
      "cell_type": "code",
      "source": [
        "#  This a simple arithmetic expression to mutiply then add integers\n",
        "(3*4)+5"
      ],
      "metadata": {
        "colab": {
          "base_uri": "https://localhost:8080/"
        },
        "id": "N5p_1Lm_msKK",
        "outputId": "a1f6cb6e-f24d-462a-c3d9-d6dcbc5daf2a"
      },
      "execution_count": null,
      "outputs": [
        {
          "output_type": "execute_result",
          "data": {
            "text/plain": [
              "17"
            ]
          },
          "metadata": {},
          "execution_count": 2
        }
      ]
    },
    {
      "cell_type": "code",
      "source": [
        "# This will convert 200 minutes to hours by diving by 60\n",
        "200/60"
      ],
      "metadata": {
        "colab": {
          "base_uri": "https://localhost:8080/"
        },
        "id": "PQ2e-rpMnlqM",
        "outputId": "fd98d896-3829-4eba-c78d-116250926db9"
      },
      "execution_count": null,
      "outputs": [
        {
          "output_type": "execute_result",
          "data": {
            "text/plain": [
              "3.3333333333333335"
            ]
          },
          "metadata": {},
          "execution_count": 4
        }
      ]
    },
    {
      "cell_type": "markdown",
      "source": [
        "Objectives:\n",
        "\n",
        "- Data Science Tools and Ecosystem\n",
        "-List popular languages for Data Science\n",
        "- List popular libraries for Data Science\n",
        "- List popular IDEs for Data Science"
      ],
      "metadata": {
        "id": "N_D97ISnoCYJ"
      }
    },
    {
      "cell_type": "markdown",
      "source": [
        "## Author\n",
        "Abdul Rehman"
      ],
      "metadata": {
        "id": "v0enwedMH871"
      }
    }
  ]
}